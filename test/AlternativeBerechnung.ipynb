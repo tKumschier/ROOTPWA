{
 "cells": [
  {
   "cell_type": "code",
   "execution_count": 1,
   "metadata": {},
   "outputs": [],
   "source": [
    "import uproot\n",
    "import numpy as np\n",
    "from os import listdir\n",
    "from os.path import isfile, join\n",
    "import os\n",
    "import math"
   ]
  },
  {
   "cell_type": "markdown",
   "metadata": {},
   "source": [
    "## Einfuehrung"
   ]
  },
  {
   "cell_type": "code",
   "execution_count": null,
   "metadata": {},
   "outputs": [],
   "source": [
    "myfolder = \"/nfs/freenas/tuph/e18/project/compass/analysis/tkumschier/ROOTPWA/test/TEST_FOLDER/ROOTPWA_MC_TEST0/amps/\"\n",
    "myfileName = \"[1-,1+,0+]=[piPiSWaveAuMorganPenningtonKachaev[sigma0]=[pi-[0,0]pi+][1,0]pi-]_eventFileId-0_2.root\"\n",
    "myRootFile = uproot.open(myfolder + myfileName)"
   ]
  },
  {
   "cell_type": "code",
   "execution_count": null,
   "metadata": {},
   "outputs": [],
   "source": [
    "print myRootFile.keys()\n",
    "print myRootFile[myRootFile.keys()[0]]"
   ]
  },
  {
   "cell_type": "code",
   "execution_count": null,
   "metadata": {
    "scrolled": true
   },
   "outputs": [],
   "source": [
    "print myRootFile[myRootFile.keys()[0]].keys()\n",
    "print myRootFile[myRootFile.keys()[0]]['amplitude'].show()\n",
    "print myRootFile[myRootFile.keys()[0]]['amplitude'].get('_incohSubAmps').array()"
   ]
  },
  {
   "cell_type": "code",
   "execution_count": null,
   "metadata": {
    "scrolled": true
   },
   "outputs": [],
   "source": [
    "incohSubAmps = myRootFile[myRootFile.keys()[0]]['amplitude'].get('_incohSubAmps').array()\n",
    "incohSubAmpsReal = myRootFile['[1-,0-,0+]=[f0_1500_0=[pi-[0,0]pi+][0,0]pi-].amp']['amplitude'].get('_incohSubAmps._real').array()\n",
    "incohSubAmpsImag = myRootFile['[1-,0-,0+]=[f0_1500_0=[pi-[0,0]pi+][0,0]pi-].amp']['amplitude'].get('_incohSubAmps._imag').array()\n",
    "#print file['[1-,0-,0+]=[f0_1500_0=[pi-[0,0]pi+][0,0]pi-].amp']['amplitude'].get('_incohSubAmps').array()"
   ]
  },
  {
   "cell_type": "code",
   "execution_count": null,
   "metadata": {
    "scrolled": true
   },
   "outputs": [],
   "source": [
    "incohSubAmpsComplex = np.array(incohSubAmpsReal + 1j * incohSubAmpsImag)\n",
    "print sum(incohSubAmpsComplex * incohSubAmpsComplex.conjugate())/nmbEvents\n",
    "print np.var(incohSubAmpsComplex)"
   ]
  },
  {
   "cell_type": "code",
   "execution_count": null,
   "metadata": {},
   "outputs": [],
   "source": [
    "ampPath = \"/nfs/freenas/tuph/e18/project/compass/analysis/tkumschier/ROOTPWA/test/TEST_FOLDER/ROOTPWA_MC_TEST0/amps/\"\n",
    "onlyfiles = [f for f in listdir(ampPath) if isfile(join(ampPath, f))]\n",
    "nmbEvents = 500 # TODO: Automatisieren\n",
    "\n",
    "print len(onlyfiles)\n",
    "for files in range(0, 1): #len(onlyfiles)):\n",
    "    print onlyfiles[files]\n",
    "    ampFile = uproot.open(ampPath + onlyfiles[files])\n",
    "    key = ampFile.keys()[0]\n",
    "    \n",
    "    incohSubAmpsReal = ampFile[key]['amplitude'].get('_incohSubAmps._real').array()\n",
    "    incohSubAmpsImag = ampFile[key]['amplitude'].get('_incohSubAmps._imag').array()\n",
    "    incohSubAmpsComplex = np.array(incohSubAmpsReal + 1j * incohSubAmpsImag)\n",
    "\n",
    "    mean = sum(incohSubAmpsComplex * incohSubAmpsComplex.conjugate())/nmbEvents\n",
    "    varReal = np.var(incohSubAmpsReal)\n",
    "    varImag = np.var(incohSubAmpsImag)\n",
    "\n",
    "    print len(incohSubAmpsReal), incohSubAmpsReal\n",
    "    print mean[0].real, \"+-\", varReal\n",
    "    print mean[0].imag, \"+-\", varImag\n",
    "    print \"\"\n"
   ]
  },
  {
   "cell_type": "code",
   "execution_count": null,
   "metadata": {},
   "outputs": [],
   "source": [
    "ampPath = \"/nfs/freenas/tuph/e18/project/compass/analysis/tkumschier/ROOTPWA/test/ROOTPWA_MC_TEST/amps/\"\n",
    "\n",
    "onlyfiles = [f for f in listdir(ampPath) if isfile(join(ampPath, f))]\n",
    "for i in range(0, len(onlyfiles)):\n",
    "    print onlyfiles[i]"
   ]
  },
  {
   "cell_type": "code",
   "execution_count": null,
   "metadata": {},
   "outputs": [],
   "source": [
    "onlyfiles = []\n",
    "for filename in sorted(os.listdir(ampPath)):\n",
    "    onlyfiles.append(filename)\n",
    "    print filename"
   ]
  },
  {
   "cell_type": "markdown",
   "metadata": {},
   "source": [
    "## Berechnung der Integralmatrix "
   ]
  },
  {
   "cell_type": "code",
   "execution_count": 2,
   "metadata": {},
   "outputs": [],
   "source": [
    "def prepareArray(origArray):\n",
    "    preparedArray = np.zeros(len(origArray), dtype=complex)\n",
    "    for i in range(0, len(origArray)):\n",
    "        preparedArray[i] = origArray[i][0]\n",
    "    return preparedArray"
   ]
  },
  {
   "cell_type": "markdown",
   "metadata": {},
   "source": [
    "## Test Bereich"
   ]
  },
  {
   "cell_type": "markdown",
   "metadata": {},
   "source": [
    "#ampPath = \"/nfs/freenas/tuph/e18/project/compass/analysis/tkumschier/ROOTPWA/test/TEST_FOLDER/ROOTPWA_MC_TEST0/amps/\"\n",
    "ampPath = \"/nfs/freenas/tuph/e18/project/compass/analysis/tkumschier/ROOTPWA/test/ROOTPWA_MC_TEST_500/amps/\"\n",
    "\n",
    "onlyfiles = []\n",
    "for filename in sorted(os.listdir(ampPath)):\n",
    "    onlyfiles.append(filename)\n",
    "nmbWaves = len(onlyfiles)\n",
    "ampFile1 = uproot.open(ampPath + onlyfiles[0])\n",
    "nmbEvents = len(ampFile1[ampFile1.keys()[0]]['amplitude'].get('_incohSubAmps._real').array())\n",
    "amp = np.zeros((nmbWaves, nmbWaves), dtype = complex)\n",
    "sd = np.zeros((nmbWaves, nmbWaves), dtype = complex)\n",
    "ampMatrix = np.zeros((nmbWaves,nmbEvents), dtype = complex)\n",
    "\n",
    "\n",
    "\n",
    "for waveIndexI in range(0, nmbWaves):\n",
    "    if ampMatrix[waveIndexI].all() == 0:\n",
    "        ampFile1 = uproot.open(ampPath + onlyfiles[waveIndexI])\n",
    "        key1 = ampFile1.keys()[0]\n",
    "\n",
    "        incohSubAmpsReal1 = ampFile1[key1]['amplitude'].get('_incohSubAmps._real').array()\n",
    "        incohSubAmpsImag1 = ampFile1[key1]['amplitude'].get('_incohSubAmps._imag').array()\n",
    "        ampMatrix[waveIndexI] = prepareArray(np.array(incohSubAmpsReal1 + 1j * incohSubAmpsImag1))\n",
    "        #print ampMatrix[waveIndexI]\n",
    "        #raise ValueError('Exit.')\n",
    "\n",
    "\n",
    "        \n",
    "    \n",
    "    for waveIndexJ in range(0, nmbWaves): #waveIndexI + 1): #nmbWaves):\n",
    "        if ampMatrix[waveIndexJ].all() == 0:\n",
    "            ampFile2 = uproot.open(ampPath + onlyfiles[waveIndexJ])\n",
    "            key2 = ampFile2.keys()[0]\n",
    "\n",
    "            incohSubAmpsReal2 = ampFile2[key2]['amplitude'].get('_incohSubAmps._real').array()\n",
    "            incohSubAmpsImag2 = ampFile2[key2]['amplitude'].get('_incohSubAmps._imag').array()\n",
    "            ampMatrix[waveIndexJ] = prepareArray(np.array(incohSubAmpsReal2 + 1j * incohSubAmpsImag2))\n",
    "\n",
    "        integral = np.sum(ampMatrix[waveIndexI] * ampMatrix[waveIndexJ].conjugate())\n",
    "        amp[waveIndexI][waveIndexJ] = amp[waveIndexJ][waveIndexI]\n",
    "        \n",
    "        sdReal = sum(pow((ampMatrix[waveIndexI] * ampMatrix[waveIndexJ].conjugate()).real, 2)).real\n",
    "        sdImag = sum(pow((ampMatrix[waveIndexI] * ampMatrix[waveIndexJ].conjugate()).imag, 2)).real\n",
    "        #print \"Var1:\", sdReal\n",
    "        \n",
    "        \n",
    "        '''\n",
    "        sdReal = 0.\n",
    "        sdImag = 0.\n",
    "        for subAmp in range(0, len(incohSubAmpsComplex1)):\n",
    "            sdReal += pow((incohSubAmpsComplex1[subAmp] * incohSubAmpsComplex2.conjugate()[subAmp]).real, 2)\n",
    "            sdImag += pow((incohSubAmpsComplex1[subAmp] * incohSubAmpsComplex2.conjugate()[subAmp]).imag, 2)\n",
    "            #print (incohSubAmpsComplex1 * incohSubAmpsComplex2.conjugate()).real[subAmp][0].real, (incohSubAmpsComplex1[subAmp][0] * incohSubAmpsComplex2.conjugate()[subAmp][0]).real\n",
    "        print \"Var2:\", sdReal\n",
    "      '''\n",
    "    \n",
    "\n",
    "        sdReal = math.sqrt((sdReal - pow(amp[waveIndexI][waveIndexJ].real,2)/float(nmbEvents))/float(nmbEvents))\n",
    "        sdImag = math.sqrt((sdImag - pow(amp[waveIndexI][waveIndexJ].imag,2)/float(nmbEvents))/float(nmbEvents))\n",
    "        sdComplex = complex(sdReal, sdImag)        \n",
    "        errorComplex = complex(sdReal/math.sqrt(nmbEvents), sdImag/math.sqrt(nmbEvents))\n",
    "        \n",
    "        sd[waveIndexI][waveIndexJ] = sdComplex\n",
    "        sd[waveIndexJ][waveIndexI] = sdComplex\n",
    "\n",
    "        amp[waveIndexI][waveIndexJ] = integral\n",
    "        amp[waveIndexJ][waveIndexI] = integral      \n",
    "        print \"%i, %i: %s, %s, %s, %s\" %(waveIndexI, waveIndexJ, amp[waveIndexI][waveIndexJ], amp[waveIndexI][waveIndexJ]/nmbEvents, sd[waveIndexI][waveIndexJ], errorComplex)\n",
    "        #print np.cov(amp/nmbEvents)\n",
    "            #raise ValueError('Exit.')\n",
    "            \n",
    "        if waveIndexJ == 10:\n",
    "            print\"\"\n",
    "            break\n",
    "    if waveIndexI == 5:\n",
    "        break\n"
   ]
  },
  {
   "cell_type": "code",
   "execution_count": 30,
   "metadata": {},
   "outputs": [
    {
     "name": "stdout",
     "output_type": "stream",
     "text": [
      "0, 0: (0.45556524307684654+0j), (0.0361104138644+0j)\n",
      "0, 1: (1.1508793683788363+0.2653219786795264j), (0.0896518721399+0.0241797862301j)\n",
      "0, 2: (0.007776633284392142+0.05581450507022344j), (0.00561797466924+0.00502596777356j)\n",
      "0, 3: (0.21787691120685787+0.0023589255052255433j), (0.0172977625131+0.000385756494223j)\n",
      "0, 4: (-0.094812296879-0.17031239527163222j), (0.0699422374677+0.102795500257j)\n",
      "0, 5: (0.3947859671144579+0.08074035633773151j), (0.0259076765678+0.0261573942337j)\n",
      "0, 6: (-0.01075710899954522+0.052912384113909035j), (0.00787456558088+0.0133680676482j)\n",
      "0, 7: (0.06584314787366563-0.0259726683124114j), (0.040242964667+0.0166529597794j)\n",
      "0, 8: (0.1715273615538611-0.08897264925707209j), (0.0976919464526+0.0512191237159j)\n",
      "0, 9: (0.03100495821032507-0.011822227453603708j), (0.0191161729561+0.0079303804476j)\n",
      "0, 10: (-0.010491687283226728-0.032317025340841944j), (0.0280639191293+0.0370984111341j)\n",
      "\n",
      "1, 0: (1.1508793683788363-0.2653219786795264j), (0.0896518721399+0.0241797862301j)\n",
      "1, 1: (3.520102728615776+0j), (0.245051858599+0j)\n",
      "1, 2: (0.12982979345304768+0.2095726330283025j), (0.0132772000917+0.0140066111086j)\n",
      "1, 3: (0.5615193838822413-0.10356170889176915j), (0.0431847963231+0.0114169331182j)\n",
      "1, 4: (-0.5503671252206445-0.4339737953090077j), (0.200917480954+0.28355230065j)\n",
      "1, 5: (1.5707894235615312-0.23821374204038986j), (0.0679450702407+0.0570850655792j)\n",
      "1, 6: (0.011835225249077187+0.18755255752684477j), (0.023443109409+0.0434062433838j)\n",
      "1, 7: (0.14056203470939366-0.057289498925802707j), (0.106147495047+0.0548189639031j)\n",
      "1, 8: (0.39124870151911684-0.23509308624121222j), (0.287983170596+0.127137646954j)\n",
      "1, 9: (0.06574554663324608-0.025348540139748306j), (0.0504181279302+0.02608361454j)\n",
      "1, 10: (-0.06832932236134061-0.060513202820551885j), (0.0909042045705+0.103373249841j)\n",
      "\n",
      "2, 0: (0.007776633284392142-0.05581450507022344j), (0.00561797466924+0.00502596777356j)\n",
      "2, 1: (0.12982979345304768-0.2095726330283025j), (0.0132772000917+0.0140066111086j)\n",
      "2, 2: (0.11938801518535871+0j), (0.0060279931343+0j)\n",
      "2, 3: (0.011869604358367015-0.020557446186894538j), (0.00271843703765+0.00254499694737j)\n",
      "2, 4: (-0.0383182587894658+0.1076809113422743j), (0.028413740587+0.0417815049004j)\n",
      "2, 5: (0.12932352711845466-0.22791207588062165j), (0.00567154073068+0.00748220842317j)\n",
      "2, 6: (0.03919366213557405+0.006294381367073044j), (0.00825612620853+0.00880723640323j)\n",
      "2, 7: (-0.0005624953892677463-0.007699004915672999j), (0.0084525428433+0.00678980773476j)\n",
      "2, 8: (-0.00616402378502149-0.022355906382660017j), (0.0225442754736+0.0222180837158j)\n",
      "2, 9: (-0.00034991205160888716-0.003580620998109038j), (0.00413610464629+0.00325897903236j)\n",
      "2, 10: (-0.020066419031300582+0.036108418497809894j), (0.0140468901617+0.021999715463j)\n",
      "\n",
      "3, 0: (0.21787691120685787-0.0023589255052255433j), (0.0172977625131+0.000385756494223j)\n",
      "3, 1: (0.5615193838822413+0.10356170889176915j), (0.0431847963231+0.0114169331182j)\n",
      "3, 2: (0.011869604358367015+0.020557446186894538j), (0.00271843703765+0.00254499694737j)\n",
      "3, 3: (0.1062590155075378+0j), (0.00828118426473+0j)\n",
      "3, 4: (-0.04057517980316454-0.08274867589008734j), (0.033828379124+0.0463979310288j)\n",
      "3, 5: (0.1974425974468451-0.004098072828525492j), (0.012447931546+0.0125141995716j)\n",
      "3, 6: (-0.005815830603346187+0.02694307572940956j), (0.00422553239758+0.00735668867398j)\n",
      "3, 7: (0.03083019657778891-0.013248470939748668j), (0.0192100562448+0.00798405607755j)\n",
      "3, 8: (0.07975710979245795-0.04484019646006197j), (0.046961577862+0.0244628112979j)\n",
      "3, 9: (0.014473452949826182-0.00603174633058014j), (0.00913259004182+0.00380713981468j)\n",
      "3, 10: (-0.004873184830851454-0.013627771454571587j), (0.0133874849912+0.0167210657071j)\n",
      "\n",
      "4, 0: (-0.094812296879+0.17031239527163222j), (0.0699422374677+0.102795500257j)\n",
      "4, 1: (-0.5503671252206445+0.4339737953090077j), (0.200917480954+0.28355230065j)\n",
      "4, 2: (-0.0383182587894658-0.1076809113422743j), (0.028413740587+0.0417815049004j)\n",
      "4, 3: (-0.04057517980316454+0.08274867589008734j), (0.033828379124+0.0463979310288j)\n",
      "4, 4: (15.272726442813912+0j), (1.3175007107+0j)\n",
      "4, 5: (-0.3510041175487467+0.3307165207974554j), (0.170262800901+0.138363533759j)\n",
      "4, 6: (-0.4081510260805908-0.028331164406144794j), (0.0413720021005+0.0634665712778j)\n",
      "4, 7: (0.040133123883731976-0.0191455737503872j), (0.101340325472+0.119455955566j)\n",
      "4, 8: (0.37627954875554703+0.05648124143336716j), (0.252702310813+0.340405314331j)\n",
      "4, 9: (0.021937956952665552-0.004740462205328925j), (0.0491078188262+0.0549260307571j)\n",
      "4, 10: (-0.5750387532164142+0.12591440216674607j), (0.525205665711+0.102486279402j)\n",
      "\n",
      "5, 0: (0.3947859671144579-0.08074035633773151j), (0.0259076765678+0.0261573942337j)\n",
      "5, 1: (1.5707894235615312+0.23821374204038986j), (0.0679450702407+0.0570850655792j)\n",
      "5, 2: (0.12932352711845466+0.22791207588062165j), (0.00567154073068+0.00748220842317j)\n",
      "5, 3: (0.1974425974468451+0.004098072828525492j), (0.012447931546+0.0125141995716j)\n",
      "5, 4: (-0.3510041175487467-0.3307165207974554j), (0.170262800901+0.138363533759j)\n",
      "5, 5: (1.3920894859818709+0j), (0.0272756574499+0j)\n",
      "5, 6: (-0.038041205252033715+0.0891089717694371j), (0.0327435951776+0.0222444518511j)\n",
      "5, 7: (0.04111199148069017-0.03580197507051625j), (0.0331596064132+0.0367299685373j)\n",
      "5, 8: (0.10770052585597543-0.11653622088087205j), (0.0954103223969+0.0866733617825j)\n",
      "5, 9: (0.0181771561278777-0.016916946309926715j), (0.0157922522831+0.0174903438204j)\n",
      "5, 10: (-0.06809302413331914-0.04382908342126368j), (0.0795173127026+0.0626285516813j)\n",
      "\n"
     ]
    }
   ],
   "source": [
    "#ampPath = \"/nfs/freenas/tuph/e18/project/compass/analysis/tkumschier/ROOTPWA/test/TEST_FOLDER/ROOTPWA_MC_TEST0/amps/\"\n",
    "ampPath = \"/nfs/freenas/tuph/e18/project/compass/analysis/tkumschier/ROOTPWA/test/ROOTPWA_MC_TEST_500/amps/\"\n",
    "ampPath = \"/nfs/freenas/tuph/e18/project/compass/analysis/tkumschier/ROOTPWA/test/TEST_FOLDER_RUNS/ROOTPWA_MC_TEST0/amps/\"\n",
    "\n",
    "\n",
    "onlyfiles = []\n",
    "for filename in sorted(os.listdir(ampPath)):\n",
    "    onlyfiles.append(filename)\n",
    "nmbWaves = len(onlyfiles)\n",
    "ampFile1 = uproot.open(ampPath + onlyfiles[0])\n",
    "nmbEvents = len(ampFile1[ampFile1.keys()[0]]['amplitude'].get('_incohSubAmps._real').array())\n",
    "amp = np.zeros((nmbWaves, nmbWaves), dtype = complex)\n",
    "sd = np.zeros((nmbWaves, nmbWaves), dtype = complex)\n",
    "ampMatrix = np.zeros((nmbWaves,nmbEvents), dtype = complex)\n",
    "\n",
    "\n",
    "\n",
    "for waveIndexI in range(0, nmbWaves):\n",
    "    if ampMatrix[waveIndexI].all() == 0:\n",
    "        ampFile1 = uproot.open(ampPath + onlyfiles[waveIndexI])\n",
    "        key1 = ampFile1.keys()[0]\n",
    "\n",
    "        incohSubAmpsReal1 = ampFile1[key1]['amplitude'].get('_incohSubAmps._real').array()\n",
    "        incohSubAmpsImag1 = ampFile1[key1]['amplitude'].get('_incohSubAmps._imag').array()\n",
    "        ampMatrix[waveIndexI] = prepareArray(np.array(incohSubAmpsReal1 + 1j * incohSubAmpsImag1))\n",
    "        #print ampMatrix[waveIndexI]\n",
    "        #raise ValueError('Exit.')\n",
    "\n",
    "\n",
    "        \n",
    "    \n",
    "    for waveIndexJ in range(0, nmbWaves): #waveIndexI + 1): #nmbWaves):\n",
    "        if ampMatrix[waveIndexJ].all() == 0:\n",
    "            ampFile2 = uproot.open(ampPath + onlyfiles[waveIndexJ])\n",
    "            key2 = ampFile2.keys()[0]\n",
    "\n",
    "            incohSubAmpsReal2 = ampFile2[key2]['amplitude'].get('_incohSubAmps._real').array()\n",
    "            incohSubAmpsImag2 = ampFile2[key2]['amplitude'].get('_incohSubAmps._imag').array()\n",
    "            ampMatrix[waveIndexJ] = prepareArray(np.array(incohSubAmpsReal2 + 1j * incohSubAmpsImag2))\n",
    "\n",
    "        integral = np.sum(ampMatrix[waveIndexI] * ampMatrix[waveIndexJ].conjugate())/nmbEvents\n",
    "        amp[waveIndexI][waveIndexJ] = integral\n",
    "        amp[waveIndexJ][waveIndexI] = integral     \n",
    "        \n",
    "        sdReal = sum(pow((ampMatrix[waveIndexI] * ampMatrix[waveIndexJ].conjugate()).real, 2)).real\n",
    "        sdImag = sum(pow((ampMatrix[waveIndexI] * ampMatrix[waveIndexJ].conjugate()).imag, 2)).real\n",
    "        #print \"Var1:\", sdReal\n",
    "        \n",
    "        \n",
    "        '''\n",
    "        sdReal = 0.\n",
    "        sdImag = 0.\n",
    "        for subAmp in range(0, len(incohSubAmpsComplex1)):\n",
    "            sdReal += pow((incohSubAmpsComplex1[subAmp] * incohSubAmpsComplex2.conjugate()[subAmp]).real, 2)\n",
    "            sdImag += pow((incohSubAmpsComplex1[subAmp] * incohSubAmpsComplex2.conjugate()[subAmp]).imag, 2)\n",
    "            #print (incohSubAmpsComplex1 * incohSubAmpsComplex2.conjugate()).real[subAmp][0].real, (incohSubAmpsComplex1[subAmp][0] * incohSubAmpsComplex2.conjugate()[subAmp][0]).real\n",
    "        print \"Var2:\", sdReal\n",
    "      '''\n",
    "    \n",
    "\n",
    "        sdReal = math.sqrt(sdReal/float(nmbEvents) - pow(amp[waveIndexI][waveIndexJ].real,2))\n",
    "        sdImag = math.sqrt(sdImag/float(nmbEvents) - pow(amp[waveIndexI][waveIndexJ].imag,2))\n",
    "        sdComplex = complex(sdReal, sdImag)        \n",
    "        errorComplex = complex(sdReal/math.sqrt(nmbEvents), sdImag/math.sqrt(nmbEvents))\n",
    "        \n",
    "        sd[waveIndexI][waveIndexJ] = sdComplex\n",
    "        sd[waveIndexJ][waveIndexI] = sdComplex\n",
    " \n",
    "        #print \"%i, %i: %s, %s, %s\" %(waveIndexI, waveIndexJ, amp[waveIndexI][waveIndexJ], sd[waveIndexI][waveIndexJ], errorComplex)\n",
    "        print \"%i, %i: %s, %s\" %(waveIndexI, waveIndexJ, amp[waveIndexI][waveIndexJ], errorComplex)\n",
    "        #print np.cov(amp/nmbEvents)\n",
    "            #raise ValueError('Exit.')\n",
    "            \n",
    "        if waveIndexJ == 10:\n",
    "            print\"\"\n",
    "            break\n",
    "    if waveIndexI == 5:\n",
    "        break\n"
   ]
  },
  {
   "cell_type": "code",
   "execution_count": null,
   "metadata": {},
   "outputs": [],
   "source": [
    "a = np.empty(5, dtype=complex)\n",
    "b = np.empty(5, dtype=complex)\n",
    "for i in range(0, 5):\n",
    "    a[i] = complex(i+1, 2 * (i+1))\n",
    "    b[i] = complex(100-i, i*10)\n",
    "    \n",
    "\n",
    "print a * b.conjugate()\n",
    "print np.sum(a*b.conjugate())\n",
    "\n",
    "val = 0\n",
    "for i in range(0, 5):\n",
    "    val += a[i] * b[i].conjugate()\n",
    "print val"
   ]
  },
  {
   "cell_type": "code",
   "execution_count": null,
   "metadata": {
    "scrolled": true
   },
   "outputs": [],
   "source": [
    "arr1 = np.array([1+2j, 5+10j])\n",
    "print arr1\n",
    "print np.square(arr1)\n",
    "print arr1.real\n",
    "\n",
    "print \"\"\n",
    "arr2 = np.array([[1+2j], [5+10j]])\n",
    "print arr2\n",
    "print np.square(arr2)\n",
    "print arr2.real"
   ]
  },
  {
   "cell_type": "code",
   "execution_count": null,
   "metadata": {},
   "outputs": [],
   "source": [
    "print np.empty((2,3))\n",
    "print np.empty((2,3))[0]"
   ]
  },
  {
   "cell_type": "code",
   "execution_count": null,
   "metadata": {},
   "outputs": [],
   "source": []
  }
 ],
 "metadata": {
  "kernelspec": {
   "display_name": "Python 2",
   "language": "python",
   "name": "python2"
  },
  "language_info": {
   "codemirror_mode": {
    "name": "ipython",
    "version": 2
   },
   "file_extension": ".py",
   "mimetype": "text/x-python",
   "name": "python",
   "nbconvert_exporter": "python",
   "pygments_lexer": "ipython2",
   "version": "2.7.13"
  }
 },
 "nbformat": 4,
 "nbformat_minor": 2
}
