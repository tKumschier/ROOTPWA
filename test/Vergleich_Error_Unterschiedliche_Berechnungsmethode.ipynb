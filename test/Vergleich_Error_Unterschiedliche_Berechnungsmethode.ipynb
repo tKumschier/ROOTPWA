{
 "cells": [
  {
   "cell_type": "markdown",
   "metadata": {},
   "source": [
    "# Masse"
   ]
  },
  {
   "cell_type": "code",
   "execution_count": null,
   "metadata": {
    "hideCode": true,
    "hideOutput": false
   },
   "outputs": [],
   "source": [
    "import pyRootPwa\n",
    "import os\n",
    "\n",
    "import numpy as np\n",
    "#import scipy.stats\n",
    "import scipy\n",
    "import matplotlib.pyplot as plt\n",
    "import math\n",
    "import mle"
   ]
  },
  {
   "cell_type": "code",
   "execution_count": null,
   "metadata": {
    "hideCode": true
   },
   "outputs": [],
   "source": [
    "dir = '/nfs/freenas/tuph/e18/project/compass/analysis/tkumschier/ROOTPWA/test/TEST_FOLDER_RUNS'\n",
    "nmbFolder = len([name for name in os.listdir(dir)])\n",
    "\n",
    "allIntegralMatrixes = np.empty(nmbFolder, dtype=pyRootPwa.libRootPwaPy.ampIntegralMatrix)\n",
    "\n",
    "for i in range(0,nmbFolder):\n",
    "    psIntegralPath = dir + '/ROOTPWA_MC_TEST' + str(i) + '/ints/integral_binID-0_2.root'\n",
    "    intFile = pyRootPwa.ROOT.TFile.Open(psIntegralPath, \"READ\")\n",
    "    intMeta = pyRootPwa.core.ampIntegralMatrixMetadata.readIntegralFile(intFile)\n",
    "    allIntegralMatrixes[i] = intMeta.getAmpIntegralMatrix() \n",
    "\n",
    "    \n",
    "    \n",
    "nmbWaves = allIntegralMatrixes[0].nmbWaves()\n",
    "vecMatrix = np.empty((nmbWaves, nmbWaves), dtype=np.ndarray)\n",
    "for waveIndexI in range(0,nmbWaves):\n",
    "    for waveIndexJ in range(0,nmbWaves): #waveIndexI+1):\n",
    "         vecMatrix[waveIndexI][waveIndexJ] = np.empty(nmbFolder, dtype=complex) \n",
    "\n",
    "for i in range(0,nmbFolder):\n",
    "    for waveIndexI in range(0,nmbWaves):\n",
    "        for waveIndexJ in range(0,nmbWaves): #waveIndexI+1):\n",
    "            vecMatrix[waveIndexI][waveIndexJ][i] = allIntegralMatrixes[i].element(waveIndexI, waveIndexJ)"
   ]
  },
  {
   "cell_type": "code",
   "execution_count": null,
   "metadata": {
    "hideCode": true
   },
   "outputs": [],
   "source": [
    "def gaussian(x, mean, amplitude, standard_deviation):\n",
    "    return amplitude * np.exp( - 0.5 * ((x - mean) / standard_deviation) ** 2)\n",
    "def chiSquared(n, bins, f, popt):\n",
    "    f_exp = []\n",
    "    for i in range(0,len(n)):\n",
    "        f_exp.append(f(bins[i], *popt))\n",
    "        #print i, n[i],  f_exp[i]\n",
    "    c , p = scipy.stats.chisquare(np.array(n, dtype=np.float32), np.array(f_exp, dtype=np.float32))\n",
    "    return c, p\n",
    "# https://github.com/ibab/python-mle\n",
    "def calcMLE(xs, ys, meanEstimated, amplitudeEstimated, standardDeviationEstimated):\n",
    "    \n",
    "    # Define model\n",
    "    xMLE = mle.var('xMLE', observed=True, vector=True)\n",
    "    yMLE = mle.var('yMLE', observed=True, vector=True)\n",
    "    \n",
    "    mean = mle.var('mean')\n",
    "    amplitude = mle.var('amplitude')\n",
    "    standardDeviation = mle.var('standardDeviation')\n",
    "    sigma = mle.var('sigma')\n",
    "    \n",
    "    model = mle.Normal(yMLE,gaussian(xMLE, mean, amplitude, standardDeviation), sigma)\n",
    "\n",
    "    # Fit model to data\n",
    "    result = model.fit({'xMLE': xs, 'yMLE': ys}, {'mean': meanEstimated, 'amplitude':amplitudeEstimated, 'standardDeviation': standardDeviationEstimated, 'sigma': 1}, dispMsg=False)\n",
    "    return result"
   ]
  },
  {
   "cell_type": "code",
   "execution_count": null,
   "metadata": {
    "hideCode": true
   },
   "outputs": [],
   "source": [
    "def createPlot(matrix, xlabel, nmbFolder, plt, plot = False, waveIndexI = 0, waveIndexJ = 0, errorMsg = \"\"):\n",
    "    chiSquaredGauss = (1,1)\n",
    "    chiSquaredMLE = (1,1)\n",
    "    popt = (float(\"nan\"), float(\"nan\"), float(\"nan\"))\n",
    "    nbins = int(math.sqrt(nmbFolder)) * 2\n",
    "    n, bins = np.histogram(matrix, bins=nbins) # n = number of events per bin\n",
    "    mean = np.mean(matrix)\n",
    "    standardDeviation = np.std(matrix)\n",
    "    var = np.var(matrix)\n",
    "    amplitude = np.max(n)\n",
    "    \n",
    "    #print(' Calc Values (np):  [mean, amp, standardDeviation] = %.8f, %.8f, %.8f' % (mean, amplitude, standardDeviation))\n",
    "\n",
    "    \n",
    "    # Generate data from bins as a set of points \n",
    "    bin_size = abs(bins[1]-bins[0])\n",
    "    x = np.linspace(start=bins[0]+bin_size/2.0,stop=bins[-2]+bin_size/2.0, num=nbins,endpoint=True)\n",
    "    y = n\n",
    "    y[y==0]= 1e-8\n",
    "    x_fit = np.linspace(x[0], x[-1], nbins)\n",
    "\n",
    "    # Gaussian\n",
    "    try:\n",
    "        p0 = scipy.array([mean, amplitude, standardDeviation])\n",
    "        popt, pcov = scipy.optimize.curve_fit(gaussian,x,y,p0) \n",
    "        #print(' Curve fit (Gauss): [mean, amp, standardDeviation] = %.8f, %.8f, %.8f' %(popt[0], popt[1], popt[2]))\n",
    "        chiSquaredGauss = chiSquared(n, bins, gaussian, popt)\n",
    "        #print ' Chi-Squared (Gauss):', chiSquaredGauss\n",
    "        \n",
    "        if plot:\n",
    "            y_gauss = gaussian(x_fit, *popt)\n",
    "            plt.plot(x_fit, y_gauss,linestyle='--',linewidth=2, color='red',label='Gaussian')\n",
    "    except:\n",
    "        print 'Error to calc Gaussian'\n",
    "        errorMsg = \"%s\\n%i, %i: Error to calc Gaussian\" %(errorMsg, waveIndexI, waveIndexJ)\n",
    "\n",
    "    \n",
    "    # Maximum Likelyhood Estimate\n",
    "    try:\n",
    "        poptMLE = calcMLE(x, y, mean, amplitude, standardDeviation)\n",
    "        #print(' Curve fit (MLE):   [mean, amp, standardDeviation] = %.8f, %.8f, %.8f' % (poptMLE.x['mean'], poptMLE.x['amplitude'], poptMLE.x['standardDeviation']))\n",
    "        #print poptMLE.x['standardDeviation']\n",
    "        chiSquaredMLE = chiSquared(n, bins, gaussian, popt)\n",
    "        #print ' Chi-Squared (MLE):', chiSquaredMLE\n",
    "        '''\n",
    "        if poptMLE['success'] == False:\n",
    "            print \"Error to calc MLE -1-\"\n",
    "            raise ValueError(\"Error to calc MLE -1-\")\n",
    "        '''\n",
    "        # Plot the fit\n",
    "        if plot:\n",
    "            yMLE = gaussian(x_fit,poptMLE.x['mean'], poptMLE.x['amplitude'], math.fabs(poptMLE.x['standardDeviation']))\n",
    "            plt.plot(x_fit, yMLE,linestyle=':',linewidth=2, color='black',label='MLE')\n",
    "    except:\n",
    "        print 'Error to calc MLE'\n",
    "        errorMsg = \"%s\\n%i, %i: Error to calc MLE\" %(errorMsg, waveIndexI, waveIndexJ)\n",
    "\n",
    "    \n",
    "    if plot:\n",
    "        plt.bar(bins[:-1], n, width = bin_size)\n",
    "\n",
    "        axes = plt.gca()\n",
    "        axes.set_ylim([0,max(n)+1])\n",
    "        plt.xlabel(xlabel)\n",
    "        plt.ylabel(\"Number of events\")\n",
    "    return (chiSquaredGauss, chiSquaredMLE, popt, poptMLE, errorMsg)"
   ]
  },
  {
   "cell_type": "code",
   "execution_count": null,
   "metadata": {
    "hideCode": true
   },
   "outputs": [],
   "source": [
    "nmbWaves = 5 # Remove for last run\n",
    "resultMatrixes = np.empty([nmbWaves, nmbWaves], dtype=list)\n",
    "matrixReal = np.empty(nmbFolder, dtype=float)\n",
    "matrixImag = np.empty(nmbFolder, dtype=float)\n",
    "problemValues = []\n",
    "errorMsg = \"\\n\\nERROR:\"\n",
    "plot = False\n",
    "\n",
    "\n",
    "for waveIndexI in range(0,nmbWaves):  \n",
    "    for waveIndexJ in range(0,nmbWaves): #,waveIndexI+1):\n",
    "        #print waveIndexI, waveIndexJ\n",
    "        resultVec={'real': {'chiSquaredGauss': '', 'chiSquaredMLE': '', 'popt': '', 'poptMLE': ''}, 'imag': {'chiSquaredGauss': '', 'chiSquaredMLE': '', 'popt': '', 'poptMLE': ''}}\n",
    "    \n",
    "        element = vecMatrix[waveIndexI][waveIndexJ]\n",
    "        for i in range(0,nmbFolder):\n",
    "            matrixReal[i] = element[i].real\n",
    "            matrixImag[i] = element[i].imag\n",
    "\n",
    "        if plot:\n",
    "            plt.figure(1)\n",
    "            plt.subplots_adjust(right=2)\n",
    "            plt.subplot(121)\n",
    "        result = createPlot(matrixReal, \"Real\", nmbFolder, plt, plot, waveIndexI, waveIndexJ, errorMsg)\n",
    "        resultVec['real'] = {'chiSquaredGauss': result[0], 'chiSquaredMLE': result[1], 'popt': result[2], 'poptMLE': result[3]}\n",
    "        errorMsg = result[4]\n",
    "        if result[0][1] >= 1 or result[1][1] >= 1 or math.isnan(result[0][1]) or math.isnan(result[1][1]):\n",
    "            problemValues.append({'waveIndexI': waveIndexI, 'waveIndexJ': waveIndexJ, 'type':'real', 'chiSquaredGauss': result[0], 'chiSquaredMLE': result[1], 'popt': result[2], 'poptMLE': result[3]})\n",
    "            errorMsg = \"%s\\n%i, %i: Error to calc real Value\" %(errorMsg, waveIndexI, waveIndexJ)\n",
    "            \n",
    "            \n",
    "        if waveIndexI != waveIndexJ:\n",
    "            print \"\"\n",
    "            if plot:\n",
    "                plt.subplot(122)\n",
    "            result = createPlot(matrixImag, \"Imaginar\", nmbFolder, plt ,plot, waveIndexI, waveIndexJ, errorMsg)\n",
    "            resultVec['imag'] = {'chiSquaredGauss': result[0], 'chiSquaredMLE': result[1], 'popt': result[2], 'poptMLE': result[3]}\n",
    "            errorMsg = result[4]\n",
    "            if result[0][1] >= 1 or result[1][1] >= 1 or math.isnan(result[0][1]) or math.isnan(result[1][1]):\n",
    "                problemValues.append({'waveIndexI': waveIndexI, 'waveIndexJ': waveIndexJ, 'type':'real', 'chiSquaredGauss': result[0], 'chiSquaredMLE': result[1], 'popt': result[2], 'poptMLE': result[3]})\n",
    "                errorMsg = \"%s\\n%i, %i: Error to calc imag Value\" %(errorMsg, waveIndexI, waveIndexJ)\n",
    "                \n",
    "        resultMatrixes[waveIndexI][waveIndexJ] = resultVec\n",
    "        if plot:\n",
    "            plt.show()"
   ]
  },
  {
   "cell_type": "markdown",
   "metadata": {},
   "source": [
    "# Alternative Berechnung"
   ]
  },
  {
   "cell_type": "code",
   "execution_count": null,
   "metadata": {
    "hideCode": true
   },
   "outputs": [],
   "source": [
    "import uproot\n",
    "import numpy as np\n",
    "import os\n",
    "import math"
   ]
  },
  {
   "cell_type": "code",
   "execution_count": null,
   "metadata": {
    "hideCode": true
   },
   "outputs": [],
   "source": [
    "def prepareArray(origArray):\n",
    "    preparedArray = np.zeros(len(origArray), dtype=complex)\n",
    "    for i in range(0, len(origArray)):\n",
    "        preparedArray[i] = origArray[i][0]\n",
    "    return preparedArray"
   ]
  },
  {
   "cell_type": "code",
   "execution_count": null,
   "metadata": {
    "hideCode": true
   },
   "outputs": [],
   "source": [
    "#ampPath = \"/nfs/freenas/tuph/e18/project/compass/analysis/tkumschier/ROOTPWA/test/TEST_FOLDER/ROOTPWA_MC_TEST0/amps/\"\n",
    "ampPath = \"/nfs/freenas/tuph/e18/project/compass/analysis/tkumschier/ROOTPWA/test/ROOTPWA_MC_TEST_500/amps/\"\n",
    "ampPath = \"/nfs/freenas/tuph/e18/project/compass/analysis/tkumschier/ROOTPWA/test/TEST_FOLDER_RUNS/ROOTPWA_MC_TEST0/amps/\"\n",
    "\n",
    "\n",
    "onlyfiles = []\n",
    "for filename in sorted(os.listdir(ampPath)):\n",
    "    onlyfiles.append(filename)\n",
    "nmbWaves = len(onlyfiles)\n",
    "ampFile1 = uproot.open(ampPath + onlyfiles[0])\n",
    "nmbEvents = len(ampFile1[ampFile1.keys()[0]]['amplitude'].get('_incohSubAmps._real').array())\n",
    "amp = np.zeros((nmbWaves, nmbWaves), dtype = complex)\n",
    "sd = np.zeros((nmbWaves, nmbWaves), dtype = complex)\n",
    "ampMatrix = np.zeros((nmbWaves,nmbEvents), dtype = complex)\n",
    "errorMatrixAlternativ = np.zeros((nmbWaves,nmbEvents), dtype = complex)\n",
    "\n",
    "\n",
    "\n",
    "for waveIndexI in range(0, nmbWaves):\n",
    "    if ampMatrix[waveIndexI].all() == 0:\n",
    "        ampFile1 = uproot.open(ampPath + onlyfiles[waveIndexI])\n",
    "        key1 = ampFile1.keys()[0]\n",
    "\n",
    "        incohSubAmpsReal1 = ampFile1[key1]['amplitude'].get('_incohSubAmps._real').array()\n",
    "        incohSubAmpsImag1 = ampFile1[key1]['amplitude'].get('_incohSubAmps._imag').array()\n",
    "        ampMatrix[waveIndexI] = prepareArray(np.array(incohSubAmpsReal1 + 1j * incohSubAmpsImag1))\n",
    "        #print ampMatrix[waveIndexI]\n",
    "        #raise ValueError('Exit.')\n",
    "\n",
    "\n",
    "        \n",
    "    \n",
    "    for waveIndexJ in range(0, nmbWaves): #waveIndexI + 1): #nmbWaves):\n",
    "        if ampMatrix[waveIndexJ].all() == 0:\n",
    "            ampFile2 = uproot.open(ampPath + onlyfiles[waveIndexJ])\n",
    "            key2 = ampFile2.keys()[0]\n",
    "\n",
    "            incohSubAmpsReal2 = ampFile2[key2]['amplitude'].get('_incohSubAmps._real').array()\n",
    "            incohSubAmpsImag2 = ampFile2[key2]['amplitude'].get('_incohSubAmps._imag').array()\n",
    "            ampMatrix[waveIndexJ] = prepareArray(np.array(incohSubAmpsReal2 + 1j * incohSubAmpsImag2))\n",
    "\n",
    "        integral = np.sum(ampMatrix[waveIndexI] * ampMatrix[waveIndexJ].conjugate())/nmbEvents\n",
    "        amp[waveIndexI][waveIndexJ] = integral\n",
    "        amp[waveIndexJ][waveIndexI] = integral     \n",
    "        \n",
    "        sdReal = sum(pow((ampMatrix[waveIndexI] * ampMatrix[waveIndexJ].conjugate()).real, 2)).real\n",
    "        sdImag = sum(pow((ampMatrix[waveIndexI] * ampMatrix[waveIndexJ].conjugate()).imag, 2)).real\n",
    "        #print \"Var1:\", sdReal\n",
    "        \n",
    "        \n",
    "        '''\n",
    "        sdReal = 0.\n",
    "        sdImag = 0.\n",
    "        for subAmp in range(0, len(incohSubAmpsComplex1)):\n",
    "            sdReal += pow((incohSubAmpsComplex1[subAmp] * incohSubAmpsComplex2.conjugate()[subAmp]).real, 2)\n",
    "            sdImag += pow((incohSubAmpsComplex1[subAmp] * incohSubAmpsComplex2.conjugate()[subAmp]).imag, 2)\n",
    "            #print (incohSubAmpsComplex1 * incohSubAmpsComplex2.conjugate()).real[subAmp][0].real, (incohSubAmpsComplex1[subAmp][0] * incohSubAmpsComplex2.conjugate()[subAmp][0]).real\n",
    "        print \"Var2:\", sdReal\n",
    "      '''\n",
    "    \n",
    "\n",
    "        sdReal = math.sqrt(sdReal/float(nmbEvents) - pow(amp[waveIndexI][waveIndexJ].real,2))\n",
    "        sdImag = math.sqrt(sdImag/float(nmbEvents) - pow(amp[waveIndexI][waveIndexJ].imag,2))\n",
    "        sdComplex = complex(sdReal, sdImag)        \n",
    "        errorComplex = complex(sdReal/math.sqrt(nmbEvents), sdImag/math.sqrt(nmbEvents))\n",
    "        errorMatrixAlternativ[waveIndexI][waveIndexJ] = errorComplex\n",
    "        \n",
    "        sd[waveIndexI][waveIndexJ] = sdComplex\n",
    "        sd[waveIndexJ][waveIndexI] = sdComplex \n",
    "\n",
    "        #print \"%i, %i: %s, %s, %s\" %(waveIndexI, waveIndexJ, amp[waveIndexI][waveIndexJ], sd[waveIndexI][waveIndexJ], errorComplex)\n",
    "        #print \"%i, %i: %s, %s\" %(waveIndexI, waveIndexJ, amp[waveIndexI][waveIndexJ], errorComplex)\n",
    "        #print np.cov(amp/nmbEvents)\n",
    "            #raise ValueError('Exit.')"
   ]
  },
  {
   "cell_type": "markdown",
   "metadata": {},
   "source": [
    "# --------------------------------------\n",
    "# Terminal"
   ]
  },
  {
   "cell_type": "code",
   "execution_count": 1,
   "metadata": {},
   "outputs": [],
   "source": [
    "import csv\n",
    "import numpy as np"
   ]
  },
  {
   "cell_type": "code",
   "execution_count": 2,
   "metadata": {},
   "outputs": [],
   "source": [
    "csvData = list(csv.reader(open('ErrorsFromTerminal_50k.csv', 'rb'), delimiter=' '))"
   ]
  },
  {
   "cell_type": "code",
   "execution_count": 3,
   "metadata": {},
   "outputs": [],
   "source": [
    "nmbWavesPWA = int(csvData[-1][3][:-1]) + 1\n",
    "errorMatrixPWA = np.zeros((nmbWavesPWA, nmbWavesPWA), dtype = complex)\n",
    "\n",
    "for k in range(0,len(csvData)/2, 2):\n",
    "        i = int(csvData[k][3][:-1])\n",
    "        j = int(csvData[k][4][:-1])\n",
    "        errorMatrixPWA[i][j] = float(csvData[k][9]) + 1j * float(csvData[k + 1][9])\n",
    "        errorMatrixPWA[j][i] = float(csvData[k][9]) + 1j * float(csvData[k + 1][9])"
   ]
  },
  {
   "cell_type": "code",
   "execution_count": null,
   "metadata": {},
   "outputs": [],
   "source": [
    "print errorMatrixPWA[1][0]"
   ]
  },
  {
   "cell_type": "markdown",
   "metadata": {},
   "source": [
    "# Lade Daten"
   ]
  },
  {
   "cell_type": "code",
   "execution_count": 4,
   "metadata": {},
   "outputs": [],
   "source": [
    "import numpy as np"
   ]
  },
  {
   "cell_type": "code",
   "execution_count": 5,
   "metadata": {},
   "outputs": [],
   "source": [
    "resultMatrixes = np.load('CompareIntegraleWithVarianzResult_50k.npy')\n",
    "amp, errorMatrixAlternativ = np.load('AlternativeBerechnung_OhneTest_50k.npy')[0]"
   ]
  },
  {
   "cell_type": "markdown",
   "metadata": {},
   "source": [
    "# Auswertung"
   ]
  },
  {
   "cell_type": "code",
   "execution_count": 6,
   "metadata": {},
   "outputs": [
    {
     "name": "stdout",
     "output_type": "stream",
     "text": [
      "Finish\n"
     ]
    }
   ],
   "source": [
    "nmbWaves = len(resultMatrixes)\n",
    "prozentPWAAlternativ = np.zeros((nmbWaves, nmbWaves), dtype = complex)\n",
    "prozentGaussAlternativ = np.zeros((nmbWaves, nmbWaves), dtype = complex)\n",
    "\n",
    "for i in range(0,nmbWaves):\n",
    "    for j in range(0, nmbWaves):\n",
    "        poptReal = resultMatrixes[i][j]['real']['poptNP'][2]\n",
    "        #poptReal = resultMatrixes[i][j]['real']['popt'][2]\n",
    "        #poptReal = resultMatrixes[i][j]['real']['poptMLE']['x']['standardDeviation']\n",
    "        #integral = resultMatrixes[i][j]['real']['poptMLE']['x']['mean']\n",
    "        if i == j:\n",
    "            p1 = errorMatrixPWA[i][j].real\n",
    "            p2 = poptReal\n",
    "            p3 = errorMatrixAlternativ[i][j].real\n",
    "        else:\n",
    "            poptImag = resultMatrixes[i][j]['imag']['poptNP'][2]\n",
    "            p1 = errorMatrixPWA[i][j].real + 1j * errorMatrixPWA[i][j].imag\n",
    "            p2 = poptReal + 1j * poptImag\n",
    "            p3 = errorMatrixAlternativ[i][j] + 1j * errorMatrixAlternativ[i][j].imag\n",
    "\n",
    "        #print i, j, p2.real*100/p3.real, p2.real, p3.real\n",
    "        #print i, j, p1.real*100/p3.real, p2.real, p3.real\n",
    "        if i == j:\n",
    "            prozentPWAAlternativ[i][j]   = p1.real*100/p3.real\n",
    "            prozentGaussAlternativ[i][j] = p2.real*100/p3.real\n",
    "        else:\n",
    "            prozentPWAAlternativ[i][j]   = p1.real*100/p3.real + 1j * p1.imag*100/p3.imag\n",
    "            prozentGaussAlternativ[i][j] = p2.real*100/p3.real + 1j * p2.imag*100/p3.imag\n",
    "                  \n",
    "\n",
    "print 'Finish'"
   ]
  },
  {
   "cell_type": "markdown",
   "metadata": {},
   "source": [
    "# Graph"
   ]
  },
  {
   "cell_type": "code",
   "execution_count": 7,
   "metadata": {},
   "outputs": [],
   "source": [
    "import matplotlib.pyplot as plt"
   ]
  },
  {
   "cell_type": "code",
   "execution_count": 8,
   "metadata": {
    "scrolled": true
   },
   "outputs": [
    {
     "name": "stdout",
     "output_type": "stream",
     "text": [
      "0.0038821758504324817\n",
      "0 0 99.52667965872806 0.0036628257843918403 0.003680245133216023\n",
      "0 0 115.65044843305465 0.00425622 0.003680245133216023\n",
      "\n",
      "0.009848769753808977\n",
      "1 0 101.28222132371347 0.009052435225251058 0.00893783243193106\n",
      "1 0 116.380566308655 0.0104019 0.00893783243193106\n",
      "\n",
      "0.000624531802679709\n",
      "2 0 100.24315066357619 0.0005852543940321932 0.0005838347958518907\n",
      "2 0 100.01527900507868 0.000583924 0.0005838347958518907\n",
      "\n",
      "0.001824071039294142\n",
      "3 0 100.15824328389094 0.0017645680351069117 0.0017617801363641909\n",
      "3 0 115.46219406230705 0.00203419 0.0017617801363641909\n",
      "\n",
      "0.008196478955768327\n",
      "4 0 111.30537553081581 0.00787602042032504 0.00707604676123167\n",
      "4 0 100.35872061936334 0.00710143 0.00707604676123167\n",
      "\n",
      "0.002783795336887885\n",
      "5 0 100.01343668865049 0.0026588043015087033 0.002658447094249711\n",
      "5 0 121.94299472846666 0.00324179 0.002658447094249711\n",
      "\n",
      "0.0006807597630144312\n",
      "6 0 87.36435960922162 0.0007819725615759081 0.00089507044414181\n",
      "6 0 100.0002855482724 0.000895073 0.00089507044414181\n",
      "\n",
      "0.0038315490231264214\n",
      "7 0 96.46234467934336 0.004160244690801959 0.0043128173015400915\n",
      "7 0 100.00075816937334 0.00431285 0.0043128173015400915\n",
      "\n",
      "0.00812579956254764\n",
      "8 0 94.07909191562807 0.009299459167337447 0.00988472462688881\n",
      "8 0 100.00086368729949 0.00988481 0.00988472462688881\n",
      "\n",
      "0.001839816081612043\n",
      "9 0 97.00132492631363 0.0019917512362808607 0.0020533237435611117\n",
      "9 0 100.00079171338369 0.00205334 0.0020533237435611117\n",
      "\n",
      "0.003336382281817403\n",
      "10 0 103.62498596238589 0.0030866334976512944 0.0029786575785609175\n",
      "10 0 100.00175990148918 0.00297871 0.0029786575785609175\n",
      "\n",
      "0.021541470384953722\n",
      "11 0 106.63049274783361 0.0216085129652971 0.020264853334588113\n",
      "11 0 100.00023027757031 0.0202649 0.020264853334588113\n",
      "\n",
      "0.002223192498744561\n",
      "12 0 98.93593544950045 0.0022601394828919504 0.0022844474786874445\n",
      "12 0 100.00011036859367 0.00228445 0.0022844474786874445\n",
      "\n",
      "0.010743577661371255\n",
      "13 0 105.30506321916207 0.00903659970564644 0.00858135347854962\n",
      "13 0 100.00042559079371 0.00858139 0.00858135347854962\n",
      "\n",
      "0.08108840306658395\n",
      "14 0 105.83275997242816 0.08435503020118079 0.07970597216132054\n",
      "14 0 100.00154046007617 0.0797072 0.07970597216132054\n",
      "\n",
      "0.0006722480176071853\n",
      "15 0 95.7877703565192 0.0008914276378269467 0.0009306278186756825\n",
      "15 0 100.00173875355893 0.000930644 0.0009306278186756825\n",
      "\n",
      "0.002310868466481652\n",
      "16 0 102.9326928731914 0.002565388986417409 0.0024922975536818574\n",
      "16 0 100.0004993913397 0.00249231 0.0024922975536818574\n",
      "\n",
      "0.0036249979547717482\n",
      "17 0 102.44820965340413 0.004435446022200467 0.004329451961343364\n",
      "17 0 100.00018567376907 0.00432946 0.004329451961343364\n",
      "\n",
      "0.009932300910510084\n",
      "18 0 105.90967005187234 0.01051807286720007 0.009931173293287136\n",
      "18 0 100.00087307622478 0.00993126 0.009931173293287136\n",
      "\n",
      "0.0017261844008629762\n",
      "19 0 102.08362745994303 0.0021044698893045674 0.002061515584495024\n",
      "19 0 100.00021418731971 0.00206152 0.002061515584495024\n",
      "\n",
      "Finish\n"
     ]
    }
   ],
   "source": [
    "nmbWavess = 95\n",
    "\n",
    "for i in range(0,20):\n",
    "    for j in range(0, 1):\n",
    "        if i == j:\n",
    "            poptReal = resultMatrixes[0][0]['real']['poptNP'][2]\n",
    "            #poptReal = resultMatrixes[i][j]['real']['popt'][2]\n",
    "            #poptReal = resultMatrixes[i][j]['real']['poptMLE']['x']['standardDeviation']\n",
    "            #integral = resultMatrixes[i][j]['real']['poptMLE']['x']['mean']\n",
    "            \n",
    "            p1 = errorMatrixPWA[i][j].real\n",
    "            p2 = poptReal\n",
    "            p3 = errorMatrixAlternativ[i][j].real\n",
    "        else:\n",
    "            poptReal = resultMatrixes[i][j]['real']['poptNP'][2] # resultMatrixes[i][j]['real']['poptMLE']['x']['standardDeviation']\n",
    "            poptImag = resultMatrixes[i][j]['imag']['popt'][2] # resultMatrixes[i][j]['imag']['poptMLE']['x']['standardDeviation']\n",
    "            #integral = resultMatrixes[i][j]['real']['poptMLE']['x']['mean'] + 1j * resultMatrixes[i][j]['imag']['poptMLE']['x']['mean']\n",
    "            p1 = errorMatrixPWA[i][j].real + 1j * errorMatrixPWA[i][j].imag\n",
    "            p2 = poptReal + 1j * poptImag\n",
    "            p3 = errorMatrixAlternativ[i][j] + 1j * errorMatrixAlternativ[i][j].imag\n",
    "\n",
    "        print resultMatrixes[i][j]['real']['popt'][2]\n",
    "        print i, j, p2.real*100/p3.real, p2.real, p3.real\n",
    "        print i, j, p1.real*100/p3.real, p1.real, p3.real\n",
    "        print \"\"\n",
    "\n",
    "print 'Finish'"
   ]
  },
  {
   "cell_type": "code",
   "execution_count": 12,
   "metadata": {
    "scrolled": false
   },
   "outputs": [
    {
     "data": {
      "image/png": "[encoded data removed]",
      "text/plain": [
       "<Figure size 720x432 with 4 Axes>"
      ]
     },
     "metadata": {
      "needs_background": "light"
     },
     "output_type": "display_data"
    },
    {
     "data": {
      "image/png": "[encoded data removed]",
      "text/plain": [
       "<Figure size 720x432 with 4 Axes>"
      ]
     },
     "metadata": {
      "needs_background": "light"
     },
     "output_type": "display_data"
    }
   ],
   "source": [
    "# the histogram of the data\n",
    "for i in range(0,2): #nmbWaves):\n",
    "'''\n",
    "    fig, axes = plt.subplots(nrows=2, ncols=2, figsize=(10,6))\n",
    "    ax0, ax1, ax2, ax3 = axes.flatten()\n",
    "    \n",
    "    ax0.hist(prozentPWAAlternativ.real[:,i], 50, facecolor='green', alpha=0.75)\n",
    "    ax0.grid(True)\n",
    "    ax1.hist(prozentPWAAlternativ.real[:,i], 50, facecolor='green', alpha=0.75, range=(99.5,100.5))\n",
    "    ax1.grid(True)\n",
    " \n",
    "    ax2.hist(prozentGaussAlternativ.real[:,i], 50, facecolor='green', alpha=0.75)\n",
    "    ax2.grid(True)\n",
    "    ax3.hist(prozentGaussAlternativ.real[:,i], 50, facecolor='green', alpha=0.75, range=(99.5,100.5))\n",
    "    ax3.grid(True)\n",
    "    \n",
    "    fig.tight_layout()\n",
    "    plt.show()\n",
    "'''\n",
    "\n",
    "    fig = plt.figure(figsize=(10,6))\n",
    " \n",
    "    ax2.hist(prozentGaussAlternativ.real[:,i], 50, facecolor='green', alpha=0.75)\n",
    "    ax2.grid(True)\n",
    "    ax3.hist(prozentGaussAlternativ.real[:,i], 50, facecolor='green', alpha=0.75, range=(99.5,100.5))\n",
    "    ax3.grid(True)\n",
    "    \n",
    "    fig.tight_layout()\n",
    "    plt.show()\n",
    "    "
   ]
  },
  {
   "cell_type": "code",
   "execution_count": null,
   "metadata": {},
   "outputs": [],
   "source": [
    "from mpl_toolkits.mplot3d import Axes3D\n",
    "import matplotlib.pyplot as plt\n",
    "import numpy as np"
   ]
  },
  {
   "cell_type": "code",
   "execution_count": null,
   "metadata": {
    "scrolled": true
   },
   "outputs": [],
   "source": [
    "fig = plt.figure()\n",
    "ax = Axes3D(fig)\n",
    "x, y = np.random.rand(2, 100) * 4\n",
    "#hist, xedges, yedges = np.histogram2d(x, y, bins=4)\n",
    "hist, xedges, yedges = np.histogram2d(x, y, bins=4)\n",
    "\n",
    "elements = (len(xedges) - 1) * (len(yedges) - 1)\n",
    "xpos, ypos = np.meshgrid(xedges[:-1]+0.25, yedges[:-1]+0.25)\n",
    "xpos = xpos.flatten()\n",
    "ypos = ypos.flatten()\n",
    "zpos = np.zeros(elements)\n",
    "\n",
    "print xpos\n",
    "\n",
    "dx = 0.5 * np.ones_like(zpos)\n",
    "dy = dx.copy()\n",
    "dz = hist.flatten()\n",
    "\n",
    "dx = dx*0.5\n",
    "xpos = xpos - dx\n",
    "\n",
    "ax.bar3d(xpos, ypos, zpos, dx, dy, dz, color='b')\n",
    "ax.bar3d(xpos+dx, ypos, zpos, dx, dy, dz, color='r')\n",
    "\n",
    "ax.set_xlabel('X')\n",
    "ax.set_ylabel('Y')\n",
    "ax.set_zlabel('Z')\n",
    "\n",
    "plt.show() "
   ]
  },
  {
   "cell_type": "code",
   "execution_count": null,
   "metadata": {},
   "outputs": [],
   "source": [
    "delta = 1.1\n",
    "for i in range(0,1):\n",
    "    for j in range(0, i+1):\n",
    "        print resultMatrixes[i][j]['real']['poptMLE']['x']['mean']\n",
    "        print \"\"\n",
    "        print resultMatrixes[i][j]['imag']\n",
    "        print len(resultMatrixes[i][j]['imag']['poptMLE'])"
   ]
  },
  {
   "cell_type": "code",
   "execution_count": null,
   "metadata": {},
   "outputs": [],
   "source": []
  }
 ],
 "metadata": {
  "celltoolbar": "Hide code",
  "kernelspec": {
   "display_name": "Python 2",
   "language": "python",
   "name": "python2"
  },
  "language_info": {
   "codemirror_mode": {
    "name": "ipython",
    "version": 2
   },
   "file_extension": ".py",
   "mimetype": "text/x-python",
   "name": "python",
   "nbconvert_exporter": "python",
   "pygments_lexer": "ipython2",
   "version": "2.7.13"
  }
 },
 "nbformat": 4,
 "nbformat_minor": 2
}
