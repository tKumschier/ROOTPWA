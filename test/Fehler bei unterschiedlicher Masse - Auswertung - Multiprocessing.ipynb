{
 "cells": [
  {
   "cell_type": "code",
   "execution_count": 1,
   "metadata": {},
   "outputs": [],
   "source": [
    "import uproot\n",
    "import numpy as np\n",
    "import os\n",
    "import math\n",
    "import matplotlib.pyplot as plt\n",
    "import progressbar\n",
    "import multiprocessing as mp\n",
    "#from tqdm import *"
   ]
  },
  {
   "cell_type": "code",
   "execution_count": 2,
   "metadata": {},
   "outputs": [],
   "source": [
    "calcValues = True"
   ]
  },
  {
   "cell_type": "code",
   "execution_count": 3,
   "metadata": {},
   "outputs": [],
   "source": [
    "mainPath = \"/nfs/freenas/tuph/e18/project/compass/analysis/tkumschier/ROOTPWA/test/TEST_FOLDER_MASS/\"\n",
    "testFoldersTmp = []\n",
    "for filename in sorted(os.listdir(mainPath)):\n",
    "    testFoldersTmp.append(filename)\n",
    "testFolders = (np.sort(np.array(testFoldersTmp).astype(int))).astype(str)"
   ]
  },
  {
   "cell_type": "markdown",
   "metadata": {},
   "source": [
    "## Berechnung der Integralmatrix "
   ]
  },
  {
   "cell_type": "code",
   "execution_count": 4,
   "metadata": {},
   "outputs": [],
   "source": [
    "def prepareArray(origArray):\n",
    "    preparedArray = np.zeros(len(origArray), dtype=complex)\n",
    "    for i in range(0, len(origArray)):\n",
    "        preparedArray[i] = origArray[i][0]\n",
    "    return preparedArray"
   ]
  },
  {
   "cell_type": "code",
   "execution_count": 5,
   "metadata": {},
   "outputs": [],
   "source": [
    "def calcErrors(folderI):\n",
    "    #if bar.currval <= folderI:\n",
    "    #    bar.update(folderI)\n",
    "    ampPath = mainPath + testFolders[folderI] + '/amps/'\n",
    "    onlyfiles = []\n",
    "    for filename in sorted(os.listdir(ampPath)):\n",
    "        onlyfiles.append(filename)\n",
    "    nmbWaves = len(onlyfiles)\n",
    "    ampFile1 = uproot.open(ampPath + onlyfiles[0])\n",
    "    nmbEvents = len(ampFile1[ampFile1.keys()[0]]['amplitude'].get('_incohSubAmps._real').array())\n",
    "\n",
    "    amp = np.zeros((nmbWaves, nmbWaves), dtype = complex)\n",
    "    sd = np.zeros((nmbWaves, nmbWaves), dtype = complex)\n",
    "    ampMatrix = np.zeros((nmbWaves,nmbEvents), dtype = complex)\n",
    "\n",
    "\n",
    "\n",
    "    for waveIndexI in range(0, 1): #nmbWaves):\n",
    "        if ampMatrix[waveIndexI].all() == 0:\n",
    "            ampFile1 = uproot.open(ampPath + onlyfiles[waveIndexI])\n",
    "            key1 = ampFile1.keys()[0]\n",
    "\n",
    "            incohSubAmpsReal1 = ampFile1[key1]['amplitude'].get('_incohSubAmps._real').array()\n",
    "            incohSubAmpsImag1 = ampFile1[key1]['amplitude'].get('_incohSubAmps._imag').array()\n",
    "            ampMatrix[waveIndexI] = prepareArray(np.array(incohSubAmpsReal1 + 1j * incohSubAmpsImag1))\n",
    "            #print ampMatrix[waveIndexI]\n",
    "            #raise ValueError('Exit.')\n",
    "\n",
    "\n",
    "\n",
    "\n",
    "        for waveIndexJ in range(0, 2): # waveIndexI + 1): #nmbWaves):\n",
    "            if ampMatrix[waveIndexJ].all() == 0:\n",
    "                ampFile2 = uproot.open(ampPath + onlyfiles[waveIndexJ])\n",
    "                key2 = ampFile2.keys()[0]\n",
    "\n",
    "                incohSubAmpsReal2 = ampFile2[key2]['amplitude'].get('_incohSubAmps._real').array()\n",
    "                incohSubAmpsImag2 = ampFile2[key2]['amplitude'].get('_incohSubAmps._imag').array()\n",
    "                ampMatrix[waveIndexJ] = prepareArray(np.array(incohSubAmpsReal2 + 1j * incohSubAmpsImag2))\n",
    "\n",
    "            integral = np.sum(ampMatrix[waveIndexI] * ampMatrix[waveIndexJ].conjugate())\n",
    "            amp[waveIndexI][waveIndexJ] = amp[waveIndexJ][waveIndexI]\n",
    "\n",
    "            sdReal = sum(pow((ampMatrix[waveIndexI] * ampMatrix[waveIndexJ].conjugate()).real, 2)).real\n",
    "            sdImag = sum(pow((ampMatrix[waveIndexI] * ampMatrix[waveIndexJ].conjugate()).imag, 2)).real\n",
    "            #print \"Var1:\", sdReal\n",
    "\n",
    "            sdReal = math.sqrt((sdReal - pow(amp[waveIndexI][waveIndexJ].real,2)/float(nmbEvents))/float(nmbEvents))\n",
    "            sdImag = math.sqrt((sdImag - pow(amp[waveIndexI][waveIndexJ].imag,2)/float(nmbEvents))/float(nmbEvents))\n",
    "            sdComplex = complex(sdReal, sdImag)        \n",
    "            errorComplex = complex(sdReal/math.sqrt(nmbEvents), sdImag/math.sqrt(nmbEvents))\n",
    "\n",
    "            sd[waveIndexI][waveIndexJ] = sdComplex\n",
    "            sd[waveIndexJ][waveIndexI] = sdComplex\n",
    "\n",
    "            amp[waveIndexI][waveIndexJ] = integral\n",
    "            amp[waveIndexJ][waveIndexI] = integral      \n",
    "            #print \"%i, %i, %i: %s, %s, %s, %s\" %(folderI, waveIndexI, waveIndexJ, amp[waveIndexI][waveIndexJ], amp[waveIndexI][waveIndexJ]/nmbEvents, sd[waveIndexI][waveIndexJ], errorComplex)\n",
    "            #print np.cov(amp/nmbEvents)\n",
    "            #raise ValueError('Exit.')\n",
    "\n",
    "            errorMatrixAbsolut[waveIndexI][waveIndexJ][folderI] = errorComplex\n",
    "            errorMatrixAbsolut[waveIndexJ][waveIndexI][folderI] = errorComplex\n",
    "\n",
    "            if waveIndexI == waveIndexJ:\n",
    "                errorMatrixRelativ[waveIndexI][waveIndexJ][folderI] = complex(errorComplex.real/math.fabs(integral.real), 0)\n",
    "            else:\n",
    "                errorMatrixRelativ[waveIndexI][waveIndexJ][folderI] = complex(errorComplex.real/math.fabs(integral.real), errorComplex.imag/math.fabs(integral.imag))\n",
    "                errorMatrixRelativ[waveIndexJ][waveIndexI][folderI] = complex(errorComplex.real/math.fabs(integral.real), errorComplex.imag/math.fabs(integral.imag))\n",
    "    return (folderI, errorMatrixAbsolut, errorMatrixRelativ, testFolders[folderI])\n"
   ]
  },
  {
   "cell_type": "code",
   "execution_count": null,
   "metadata": {},
   "outputs": [],
   "source": [
    "def test(folderI):\n",
    "    print folderI"
   ]
  },
  {
   "cell_type": "code",
   "execution_count": 7,
   "metadata": {
    "scrolled": false
   },
   "outputs": [
    {
     "name": "stderr",
     "output_type": "stream",
     "text": [
      "[                                                                        ]   0%\r"
     ]
    },
    {
     "ename": "NameError",
     "evalue": "global name 'errorMatrixAbsolut' is not defined",
     "output_type": "error",
     "traceback": [
      "\u001b[0;31m---------------------------------------------------------------------------\u001b[0m",
      "\u001b[0;31mNameError\u001b[0m                                 Traceback (most recent call last)",
      "\u001b[0;32m<ipython-input-7-da66503f5ab3>\u001b[0m in \u001b[0;36m<module>\u001b[0;34m()\u001b[0m\n\u001b[1;32m     10\u001b[0m \u001b[0mbar\u001b[0m\u001b[0;34m.\u001b[0m\u001b[0mstart\u001b[0m\u001b[0;34m(\u001b[0m\u001b[0;34m)\u001b[0m\u001b[0;34m\u001b[0m\u001b[0m\n\u001b[1;32m     11\u001b[0m \u001b[0mpool\u001b[0m \u001b[0;34m=\u001b[0m \u001b[0mmp\u001b[0m\u001b[0;34m.\u001b[0m\u001b[0mPool\u001b[0m\u001b[0;34m(\u001b[0m\u001b[0;36m2\u001b[0m\u001b[0;34m)\u001b[0m\u001b[0;31m#mp.cpu_count())\u001b[0m\u001b[0;34m\u001b[0m\u001b[0m\n\u001b[0;32m---> 12\u001b[0;31m \u001b[0mresults\u001b[0m \u001b[0;34m=\u001b[0m \u001b[0mpool\u001b[0m\u001b[0;34m.\u001b[0m\u001b[0mmap\u001b[0m\u001b[0;34m(\u001b[0m\u001b[0mcalcErrors\u001b[0m\u001b[0;34m,\u001b[0m \u001b[0;34m[\u001b[0m\u001b[0mfolderI\u001b[0m \u001b[0;32mfor\u001b[0m \u001b[0mfolderI\u001b[0m \u001b[0;32min\u001b[0m \u001b[0mrange\u001b[0m\u001b[0;34m(\u001b[0m\u001b[0;36m0\u001b[0m\u001b[0;34m,\u001b[0m\u001b[0mnmbTestFolders\u001b[0m\u001b[0;34m)\u001b[0m\u001b[0;34m]\u001b[0m\u001b[0;34m)\u001b[0m\u001b[0;34m\u001b[0m\u001b[0m\n\u001b[0m\u001b[1;32m     13\u001b[0m '''\n\u001b[1;32m     14\u001b[0m \u001b[0;32mwith\u001b[0m \u001b[0mtqdm\u001b[0m\u001b[0;34m(\u001b[0m\u001b[0mtotal\u001b[0m\u001b[0;34m=\u001b[0m\u001b[0mnmbTestFolders\u001b[0m\u001b[0;34m)\u001b[0m \u001b[0;32mas\u001b[0m \u001b[0mpbar\u001b[0m\u001b[0;34m:\u001b[0m\u001b[0;34m\u001b[0m\u001b[0m\n",
      "\u001b[0;32m/opt/rh/python27/root/usr/lib64/python2.7/multiprocessing/pool.pyc\u001b[0m in \u001b[0;36mmap\u001b[0;34m(self, func, iterable, chunksize)\u001b[0m\n\u001b[1;32m    249\u001b[0m         '''\n\u001b[1;32m    250\u001b[0m         \u001b[0;32massert\u001b[0m \u001b[0mself\u001b[0m\u001b[0;34m.\u001b[0m\u001b[0m_state\u001b[0m \u001b[0;34m==\u001b[0m \u001b[0mRUN\u001b[0m\u001b[0;34m\u001b[0m\u001b[0m\n\u001b[0;32m--> 251\u001b[0;31m         \u001b[0;32mreturn\u001b[0m \u001b[0mself\u001b[0m\u001b[0;34m.\u001b[0m\u001b[0mmap_async\u001b[0m\u001b[0;34m(\u001b[0m\u001b[0mfunc\u001b[0m\u001b[0;34m,\u001b[0m \u001b[0miterable\u001b[0m\u001b[0;34m,\u001b[0m \u001b[0mchunksize\u001b[0m\u001b[0;34m)\u001b[0m\u001b[0;34m.\u001b[0m\u001b[0mget\u001b[0m\u001b[0;34m(\u001b[0m\u001b[0;34m)\u001b[0m\u001b[0;34m\u001b[0m\u001b[0m\n\u001b[0m\u001b[1;32m    252\u001b[0m \u001b[0;34m\u001b[0m\u001b[0m\n\u001b[1;32m    253\u001b[0m     \u001b[0;32mdef\u001b[0m \u001b[0mimap\u001b[0m\u001b[0;34m(\u001b[0m\u001b[0mself\u001b[0m\u001b[0;34m,\u001b[0m \u001b[0mfunc\u001b[0m\u001b[0;34m,\u001b[0m \u001b[0miterable\u001b[0m\u001b[0;34m,\u001b[0m \u001b[0mchunksize\u001b[0m\u001b[0;34m=\u001b[0m\u001b[0;36m1\u001b[0m\u001b[0;34m)\u001b[0m\u001b[0;34m:\u001b[0m\u001b[0;34m\u001b[0m\u001b[0m\n",
      "\u001b[0;32m/opt/rh/python27/root/usr/lib64/python2.7/multiprocessing/pool.pyc\u001b[0m in \u001b[0;36mget\u001b[0;34m(self, timeout)\u001b[0m\n\u001b[1;32m    565\u001b[0m             \u001b[0;32mreturn\u001b[0m \u001b[0mself\u001b[0m\u001b[0;34m.\u001b[0m\u001b[0m_value\u001b[0m\u001b[0;34m\u001b[0m\u001b[0m\n\u001b[1;32m    566\u001b[0m         \u001b[0;32melse\u001b[0m\u001b[0;34m:\u001b[0m\u001b[0;34m\u001b[0m\u001b[0m\n\u001b[0;32m--> 567\u001b[0;31m             \u001b[0;32mraise\u001b[0m \u001b[0mself\u001b[0m\u001b[0;34m.\u001b[0m\u001b[0m_value\u001b[0m\u001b[0;34m\u001b[0m\u001b[0m\n\u001b[0m\u001b[1;32m    568\u001b[0m \u001b[0;34m\u001b[0m\u001b[0m\n\u001b[1;32m    569\u001b[0m     \u001b[0;32mdef\u001b[0m \u001b[0m_set\u001b[0m\u001b[0;34m(\u001b[0m\u001b[0mself\u001b[0m\u001b[0;34m,\u001b[0m \u001b[0mi\u001b[0m\u001b[0;34m,\u001b[0m \u001b[0mobj\u001b[0m\u001b[0;34m)\u001b[0m\u001b[0;34m:\u001b[0m\u001b[0;34m\u001b[0m\u001b[0m\n",
      "\u001b[0;31mNameError\u001b[0m: global name 'errorMatrixAbsolut' is not defined"
     ]
    }
   ],
   "source": [
    "nmbTestFolders = len(testFolders)\n",
    "ampPathTmp = mainPath + testFolders[0] + '/amps/'\n",
    "onlyfiles = []\n",
    "for filename in sorted(os.listdir(ampPathTmp)):\n",
    "    onlyfiles.append(filename)\n",
    "nmbWaves = len(onlyfiles)\n",
    "\n",
    "\n",
    "bar = progressbar.ProgressBar(maxval=nmbTestFolders, widgets=[progressbar.Bar('=', '[', ']'), ' ', progressbar.Percentage()])\n",
    "bar.start()\n",
    "pool = mp.Pool(2)#mp.cpu_count())\n",
    "results = pool.map(calcErrors, [folderI for folderI in range(0,nmbTestFolders)])\n",
    "'''\n",
    "with tqdm(total=nmbTestFolders) as pbar:\n",
    "    #for i, res in tqdm(enumerate(pool.imap_unordered(calcErrors, [folderI for folderI in range(0,nmbTestFolders)]))):\n",
    "    for i, res in tqdm(enumerate(pool.map(calcErrors, [folderI for folderI in range(0,nmbTestFolders)]))):\n",
    "        results.append(res) \n",
    "        pbar.update()\n",
    "'''\n",
    "pool.close()   \n",
    "pool.join()\n",
    "bar.update(bar.maxval)\n",
    "\n",
    "\n",
    "\n",
    "#nmbWaves = len([name for name in os.listdir(mainPath + testFolders[0] + '/amps/') if os.path.isfile(os.path.join(mainPath + testFolders[0] + '/amps/', name))])\n",
    "axisArr = np.zeros(nmbTestFolders, dtype=int)\n",
    "errorMatrixAbsolut = np.zeros((nmbWaves, nmbWaves), dtype = np.ndarray)\n",
    "errorMatrixRelativ = np.zeros((nmbWaves, nmbWaves), dtype = np.ndarray)\n",
    "for i in range(0, nmbWaves):\n",
    "    for j in range(0, nmbWaves):\n",
    "        errorMatrixAbsolut[i][j] = np.zeros(nmbTestFolders, dtype=complex)\n",
    "        errorMatrixRelativ[i][j] = np.zeros(nmbTestFolders, dtype=complex)\n",
    "        \n",
    "for resultI in range(0,len(results)):\n",
    "    folderI = results[resultI][0]\n",
    "    axisArr[folderI] = results[resultI][3]\n",
    "    for waveIndexI in range(0, nmbWaves):\n",
    "        for waveIndexJ in range(0, waveIndexI + 1):\n",
    "            errorMatrixAbsolut[waveIndexI][waveIndexJ][folderI] = results[resultI][1][waveIndexI][waveIndexJ][folderI]\n",
    "            errorMatrixAbsolut[waveIndexI][waveIndexJ][folderI] = results[resultI][1][waveIndexJ][waveIndexI][folderI]\n",
    "            errorMatrixRelativ[waveIndexI][waveIndexJ][folderI] = results[resultI][2][waveIndexI][waveIndexJ][folderI]\n",
    "            errorMatrixRelativ[waveIndexI][waveIndexJ][folderI] = results[resultI][2][waveIndexJ][waveIndexI][folderI]\n",
    "\n",
    "\n",
    "'''\n",
    "data = np.zeros(len(errorMatrixAbsolut), dtype = [('mass', int), ('fileName', 'U100'), ('absolutError', np.ndarray), ('relativError', np.ndarray)])\n",
    "for resultI in range(0,len(results)):\n",
    "    folderI = results[resultI][0]\n",
    "    axisArr[folderI] = results[resultI][3]\n",
    "    for waveIndexI in range(0, nmbWaves):\n",
    "        for waveIndexJ in range(0, waveIndexI + 1):\n",
    "            #data[folderI] = (results[resultsI][3], , results[resultsI][1], results[resultsI][2])\n",
    "'''       \n",
    "#onlyfiles = results[0][4]\n",
    "\n",
    "print \"Finish successfully\""
   ]
  },
  {
   "cell_type": "code",
   "execution_count": null,
   "metadata": {
    "scrolled": true
   },
   "outputs": [],
   "source": [
    "if calcValues == False:\n",
    "    for i in range(0,5): #len(testFolders)):\n",
    "        for j in range(0, i+1): #len(testFolders)):\n",
    "            print i, j\n",
    "            fig = plt.figure(figsize=(10,3))\n",
    "            plt.grid(True)\n",
    "            plt.xticks(np.arange(0, max(axisArr), 1000))\n",
    "            plt.plot(axisArr, errorMatrixAbsolut[i][j].real, 'o')\n",
    "            #plt.plot(axisArr, errorMatrixRelativ[i][j].real*100, 'o')\n",
    "            #print errorMatrix[i][j]\n",
    "            print onlyfiles[i]\n",
    "            print onlyfiles[j]\n",
    "            plt.xlabel('Mass [MeV/c^2]')\n",
    "            plt.ylabel('Error [%]')\n",
    "            plt.show()\n",
    "            \n",
    "            \n",
    "            if i != j:\n",
    "                fig = plt.figure(figsize=(10,3))\n",
    "                plt.grid(True)\n",
    "                plt.xticks(np.arange(0, max(axisArr), 1000))\n",
    "                plt.plot(axisArr, errorMatrixAbsolut[i][j].imag, 'ro')\n",
    "                #plt.plot(axisArr, errorMatrixRelativ[i][j].imag*100, 'ro')\n",
    "                #print errorMatrix[i][j]\n",
    "                print onlyfiles[i]\n",
    "                print onlyfiles[j]\n",
    "                plt.xlabel('Mass [MeV/c^2]')\n",
    "                plt.ylabel('Error [%]')\n",
    "                plt.show()\n"
   ]
  },
  {
   "cell_type": "markdown",
   "metadata": {},
   "source": [
    "## Test Bereich"
   ]
  },
  {
   "cell_type": "code",
   "execution_count": null,
   "metadata": {},
   "outputs": [],
   "source": [
    "#if calcValues == True:\n",
    "    #np.save('Fehler_bei_unterschiedlicher_Masse_Auswertung_Absolut.npy', errorMatrixAbsolut)\n",
    "    #np.save('Fehler_bei_unterschiedlicher_Masse_Auswertung_Relativ.npy', errorMatrixRelativ)"
   ]
  },
  {
   "cell_type": "code",
   "execution_count": null,
   "metadata": {},
   "outputs": [],
   "source": [
    "# %reset"
   ]
  },
  {
   "cell_type": "code",
   "execution_count": null,
   "metadata": {},
   "outputs": [],
   "source": [
    "# print len(errorMatrixAbsolut[0][1].real), len(errorMatrixAbsolut[0][1].imag)"
   ]
  },
  {
   "cell_type": "code",
   "execution_count": null,
   "metadata": {},
   "outputs": [],
   "source": []
  }
 ],
 "metadata": {
  "kernelspec": {
   "display_name": "Python 2",
   "language": "python",
   "name": "python2"
  },
  "language_info": {
   "codemirror_mode": {
    "name": "ipython",
    "version": 2
   },
   "file_extension": ".py",
   "mimetype": "text/x-python",
   "name": "python",
   "nbconvert_exporter": "python",
   "pygments_lexer": "ipython2",
   "version": "2.7.13"
  }
 },
 "nbformat": 4,
 "nbformat_minor": 2
}
