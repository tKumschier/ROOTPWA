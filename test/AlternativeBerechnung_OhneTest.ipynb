{
 "cells": [
  {
   "cell_type": "code",
   "execution_count": 4,
   "metadata": {},
   "outputs": [],
   "source": [
    "import uproot\n",
    "import numpy as np\n",
    "import os\n",
    "import math\n",
    "import progressbar"
   ]
  },
  {
   "cell_type": "code",
   "execution_count": 2,
   "metadata": {},
   "outputs": [],
   "source": [
    "def prepareArray(origArray):\n",
    "    preparedArray = np.zeros(len(origArray), dtype=complex)\n",
    "    for i in range(0, len(origArray)):\n",
    "        preparedArray[i] = origArray[i][0]\n",
    "    return preparedArray"
   ]
  },
  {
   "cell_type": "code",
   "execution_count": 21,
   "metadata": {},
   "outputs": [
    {
     "name": "stderr",
     "output_type": "stream",
     "text": [
      "[========================================================================] 100%\r"
     ]
    }
   ],
   "source": [
    "#ampPath = \"/nfs/freenas/tuph/e18/project/compass/analysis/tkumschier/ROOTPWA/test/TEST_FOLDER/ROOTPWA_MC_TEST0/amps/\"\n",
    "#ampPath = \"/nfs/freenas/tuph/e18/project/compass/analysis/tkumschier/ROOTPWA/test/ROOTPWA_MC_TEST_500/amps/\"\n",
    "ampPath = \"/nfs/freenas/tuph/e18/project/compass/analysis/tkumschier/ROOTPWA/test/TEST_FOLDER_RUNS2/ROOTPWA_MC_TEST0/amps/\"\n",
    "\n",
    "\n",
    "onlyfiles = []\n",
    "for filename in sorted(os.listdir(ampPath)):\n",
    "    onlyfiles.append(filename)\n",
    "nmbWaves = len(onlyfiles)\n",
    "ampFile1 = uproot.open(ampPath + onlyfiles[0])\n",
    "nmbEvents = len(ampFile1[ampFile1.keys()[0]]['amplitude'].get('_incohSubAmps._real').array())\n",
    "amp = np.zeros((nmbWaves, nmbWaves), dtype = complex)\n",
    "sd = np.zeros((nmbWaves, nmbWaves), dtype = complex)\n",
    "ampMatrix = np.zeros((nmbWaves,nmbEvents), dtype = complex)\n",
    "errorMatrix = np.zeros((nmbWaves,nmbEvents), dtype = complex)\n",
    "\n",
    "\n",
    "bar = progressbar.ProgressBar(maxval=nmbWaves, widgets=[progressbar.Bar('=', '[', ']'), ' ', progressbar.Percentage()])\n",
    "bar.start()\n",
    "for waveIndexI in range(0, nmbWaves):\n",
    "    if ampMatrix[waveIndexI].all() == 0:\n",
    "        ampFile1 = uproot.open(ampPath + onlyfiles[waveIndexI])\n",
    "        key1 = ampFile1.keys()[0]\n",
    "\n",
    "        incohSubAmpsReal1 = ampFile1[key1]['amplitude'].get('_incohSubAmps._real').array()\n",
    "        incohSubAmpsImag1 = ampFile1[key1]['amplitude'].get('_incohSubAmps._imag').array()\n",
    "        ampMatrix[waveIndexI] = prepareArray(np.array(incohSubAmpsReal1 + 1j * incohSubAmpsImag1))\n",
    "        #print ampMatrix[waveIndexI]\n",
    "        #raise ValueError('Exit.')\n",
    "\n",
    "\n",
    "    bar.update(waveIndexI+1)\n",
    "    \n",
    "    for waveIndexJ in range(0, waveIndexI + 1): #nmbWaves):\n",
    "        if ampMatrix[waveIndexJ].all() == 0:\n",
    "            ampFile2 = uproot.open(ampPath + onlyfiles[waveIndexJ])\n",
    "            key2 = ampFile2.keys()[0]\n",
    "\n",
    "            incohSubAmpsReal2 = ampFile2[key2]['amplitude'].get('_incohSubAmps._real').array()\n",
    "            incohSubAmpsImag2 = ampFile2[key2]['amplitude'].get('_incohSubAmps._imag').array()\n",
    "            ampMatrix[waveIndexJ] = prepareArray(np.array(incohSubAmpsReal2 + 1j * incohSubAmpsImag2))\n",
    "\n",
    "        integral = np.sum(ampMatrix[waveIndexI] * ampMatrix[waveIndexJ].conjugate())/nmbEvents\n",
    "        amp[waveIndexI][waveIndexJ] = integral\n",
    "        amp[waveIndexJ][waveIndexI] = integral     \n",
    "        \n",
    "        sdReal = sum(pow((ampMatrix[waveIndexI] * ampMatrix[waveIndexJ].conjugate()).real, 2)).real\n",
    "        sdImag = sum(pow((ampMatrix[waveIndexI] * ampMatrix[waveIndexJ].conjugate()).imag, 2)).real\n",
    "        #print \"Var1:\", sdReal\n",
    "        \n",
    "        \n",
    "        '''\n",
    "        sdReal = 0.\n",
    "        sdImag = 0.\n",
    "        for subAmp in range(0, len(incohSubAmpsComplex1)):\n",
    "            sdReal += pow((incohSubAmpsComplex1[subAmp] * incohSubAmpsComplex2.conjugate()[subAmp]).real, 2)\n",
    "            sdImag += pow((incohSubAmpsComplex1[subAmp] * incohSubAmpsComplex2.conjugate()[subAmp]).imag, 2)\n",
    "            #print (incohSubAmpsComplex1 * incohSubAmpsComplex2.conjugate()).real[subAmp][0].real, (incohSubAmpsComplex1[subAmp][0] * incohSubAmpsComplex2.conjugate()[subAmp][0]).real\n",
    "        print \"Var2:\", sdReal\n",
    "      '''\n",
    "    \n",
    "\n",
    "        sdReal = math.sqrt(sdReal/float(nmbEvents) - pow(amp[waveIndexI][waveIndexJ].real,2))\n",
    "        sdImag = math.sqrt(sdImag/float(nmbEvents) - pow(amp[waveIndexI][waveIndexJ].imag,2))\n",
    "        sdComplex = complex(sdReal, sdImag)        \n",
    "        errorComplex = complex(sdReal/math.sqrt(nmbEvents), sdImag/math.sqrt(nmbEvents))\n",
    "        errorMatrix[waveIndexI][waveIndexJ] = errorComplex\n",
    "        errorMatrix[waveIndexJ][waveIndexI] = errorComplex\n",
    "        \n",
    "        \n",
    "        sd[waveIndexI][waveIndexJ] = sdComplex\n",
    "        sd[waveIndexJ][waveIndexI] = sdComplex\n",
    " \n",
    "        #print \"%i, %i: %s, %s, %s\" %(waveIndexI, waveIndexJ, amp[waveIndexI][waveIndexJ], sd[waveIndexI][waveIndexJ], errorComplex)\n",
    "        #print \"%i, %i: %s, %s\" %(waveIndexI, waveIndexJ, amp[waveIndexI][waveIndexJ], errorComplex)\n",
    "        #print np.cov(amp/nmbEvents)\n",
    "            #raise ValueError('Exit.')\n"
   ]
  },
  {
   "cell_type": "code",
   "execution_count": 22,
   "metadata": {},
   "outputs": [],
   "source": [
    "np.save('AlternativeBerechnung_OhneTest_50k.npy', np.array([(amp,errorMatrix)], dtype=[('amp', np.ndarray),('errorMatrix', np.ndarray)]))"
   ]
  },
  {
   "cell_type": "code",
   "execution_count": null,
   "metadata": {},
   "outputs": [],
   "source": []
  }
 ],
 "metadata": {
  "kernelspec": {
   "display_name": "Python 2",
   "language": "python",
   "name": "python2"
  },
  "language_info": {
   "codemirror_mode": {
    "name": "ipython",
    "version": 2
   },
   "file_extension": ".py",
   "mimetype": "text/x-python",
   "name": "python",
   "nbconvert_exporter": "python",
   "pygments_lexer": "ipython2",
   "version": "2.7.13"
  }
 },
 "nbformat": 4,
 "nbformat_minor": 2
}
